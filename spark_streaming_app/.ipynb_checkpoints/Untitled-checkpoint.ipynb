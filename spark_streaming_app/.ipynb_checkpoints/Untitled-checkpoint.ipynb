{
 "cells": [
  {
   "cell_type": "code",
   "execution_count": 28,
   "id": "71394eb4-6e2b-4f18-ba6a-fbcaa48608d1",
   "metadata": {},
   "outputs": [
    {
     "name": "stdout",
     "output_type": "stream",
     "text": [
      "root\n",
      " |-- UID: decimal(38,0) (nullable = false)\n",
      " |-- ADDRESS: string (nullable = true)\n",
      " |-- CITY: string (nullable = true)\n",
      " |-- ZIPCODE: string (nullable = true)\n",
      " |-- DECISION: string (nullable = true)\n",
      " |-- CREATE_TS: timestamp (nullable = true)\n",
      "\n"
     ]
    }
   ],
   "source": [
    "from pyspark.sql import SparkSession\n",
    "from pyspark.sql.functions import *\n",
    "from pyspark import SparkContext\n",
    "from pyspark.sql.functions import from_json\n",
    "from pyspark.sql.types import StructType, StructField, BooleanType, LongType, IntegerType\n",
    "\n",
    "from pyspark.sql.types import *\n",
    "import time\n",
    "import json\n",
    "\n",
    "\n",
    "spark = (SparkSession\n",
    ".builder\n",
    ".master('local')\n",
    ".appName('wiki-changes-event-consumer')\n",
    "# Add kafka package\n",
    ".config(\"spark.jars.packages\", \"org.apache.spark:spark-sql-kafka-0-10_2.12:3.2.1,net.snowflake:spark-snowflake_2.12:2.10.0-spark_3.2\")\n",
    ".getOrCreate())\n",
    "sc = spark.sparkContext\n",
    "\n",
    "\n",
    "\n",
    "sfOptions = {\n",
    " \"sfURL\" : \"zu02863.ap-south-1.aws.snowflakecomputing.com\",\n",
    " \"sfAccount\" : \"zu02863.ap-south-1.aws\",\n",
    " \"sfUser\" : \"coolkeonjhar\",\n",
    " \"sfPassword\" : \"Amrita@123\",\n",
    " \"sfDatabase\" : \"NIMBUS_MAPS\",\n",
    " \"sfSchema\" : \"STAGING_DATA_LAKE\",\n",
    " \"sfWarehouse\" : \"compute_wh\",\n",
    " \"sfRole\" : \"ACCOUNTADMIN\"\n",
    "}\n",
    " \n",
    "    \n",
    "df = spark.read.format('snowflake') \\\n",
    "  .options(**sfOptions) \\\n",
    "  .option(\"query\",  \"SELECT * FROM NIMBUS_MAPS.STAGING_DATA_LAKE.DECISION_DATA_STG\") \\\n",
    "  .load()\n",
    "\n",
    "df.printSchema()"
   ]
  },
  {
   "cell_type": "code",
   "execution_count": 29,
   "id": "96cf06ef-9804-4835-8efb-cbb473713e64",
   "metadata": {},
   "outputs": [],
   "source": [
    "df_dupli = df.groupby(['UID','ADDRESS','CITY','ZIPCODE','DECISION','CREATE_TS']).count().where('count > 1').sort('count', ascending=False)"
   ]
  },
  {
   "cell_type": "raw",
   "id": "3de79d20-a5d6-496f-834b-8c6a1cf90b32",
   "metadata": {},
   "source": []
  },
  {
   "cell_type": "code",
   "execution_count": 31,
   "id": "16903803-886c-4080-a6d2-c1a1d245c727",
   "metadata": {},
   "outputs": [
    {
     "name": "stdout",
     "output_type": "stream",
     "text": [
      "it has 1 duplicates\n"
     ]
    }
   ],
   "source": [
    "duplicates_count=df_dupli.count()\n",
    "if duplicates_count>0:\n",
    "    print(f'it has {duplicates_count} duplicates')"
   ]
  },
  {
   "cell_type": "code",
   "execution_count": null,
   "id": "e48af9e6-c4fe-40c4-b48d-80d100df7356",
   "metadata": {},
   "outputs": [],
   "source": [
    "df.write.format(\"snowflake\").options(sfOptions).option(\"dbtable\",'NIMBUS_MAPS.RAW_LAYER.DECISION_DATA_RAW').mode(\"append\")"
   ]
  },
  {
   "cell_type": "code",
   "execution_count": null,
   "id": "6dd5dc6e-6458-4dd7-b02c-90a7fb538e7e",
   "metadata": {},
   "outputs": [],
   "source": []
  },
  {
   "cell_type": "code",
   "execution_count": null,
   "id": "428e4c89-a7b1-4447-982b-4fb054959f9e",
   "metadata": {},
   "outputs": [],
   "source": []
  },
  {
   "cell_type": "code",
   "execution_count": null,
   "id": "a089db9c-5fb1-4e0f-8f19-9abcbe2d7141",
   "metadata": {},
   "outputs": [],
   "source": []
  },
  {
   "cell_type": "code",
   "execution_count": null,
   "id": "243b2f31-b255-4e72-977e-9159e5e4c82d",
   "metadata": {},
   "outputs": [],
   "source": []
  },
  {
   "cell_type": "code",
   "execution_count": null,
   "id": "a6952a3e-a4a4-442d-ab1d-9c52ee8edae7",
   "metadata": {},
   "outputs": [],
   "source": []
  },
  {
   "cell_type": "code",
   "execution_count": null,
   "id": "42b75d7a-5e00-4426-b7ba-a55f6497db63",
   "metadata": {},
   "outputs": [],
   "source": []
  },
  {
   "cell_type": "code",
   "execution_count": null,
   "id": "9be15e59-a9ba-41d6-9c44-597d65d9c4a9",
   "metadata": {},
   "outputs": [],
   "source": []
  },
  {
   "cell_type": "code",
   "execution_count": null,
   "id": "7ec060d0-6c3c-4463-91fb-d2b8ebc5eb08",
   "metadata": {},
   "outputs": [],
   "source": []
  },
  {
   "cell_type": "code",
   "execution_count": null,
   "id": "38ddee23-d579-4c98-9dbc-2257cbef3a18",
   "metadata": {},
   "outputs": [],
   "source": []
  },
  {
   "cell_type": "code",
   "execution_count": null,
   "id": "15a679d0-c757-4605-b8a9-51e822c097f3",
   "metadata": {},
   "outputs": [],
   "source": []
  },
  {
   "cell_type": "code",
   "execution_count": null,
   "id": "ab33580c-6ab7-4503-abd1-0879dbe79358",
   "metadata": {},
   "outputs": [],
   "source": []
  },
  {
   "cell_type": "code",
   "execution_count": null,
   "id": "0c4d7421-6293-4abd-b628-d2dabaca7784",
   "metadata": {},
   "outputs": [],
   "source": []
  }
 ],
 "metadata": {
  "kernelspec": {
   "display_name": "Python 3 (ipykernel)",
   "language": "python",
   "name": "python3"
  },
  "language_info": {
   "codemirror_mode": {
    "name": "ipython",
    "version": 3
   },
   "file_extension": ".py",
   "mimetype": "text/x-python",
   "name": "python",
   "nbconvert_exporter": "python",
   "pygments_lexer": "ipython3",
   "version": "3.8.10"
  }
 },
 "nbformat": 4,
 "nbformat_minor": 5
}
