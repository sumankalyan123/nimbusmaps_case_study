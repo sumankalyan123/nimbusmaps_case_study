{
 "cells": [
  {
   "cell_type": "code",
   "execution_count": 8,
   "id": "103cf4df-3a5b-45f6-95fb-8adbbae0b7aa",
   "metadata": {},
   "outputs": [],
   "source": [
    "from pyspark.sql import SparkSession\n",
    "from pyspark.sql.functions import *\n",
    "from pyspark import SparkContext\n",
    "import pyspark.sql.functions as F\n",
    "\n",
    "\n",
    "import time\n",
    "import json\n",
    "SNOWFLAKE_SOURCE_NAME = \"net.snowflake.spark.snowflake\"\n",
    "\n",
    "spark = (SparkSession\n",
    ".builder\n",
    ".master('local')\n",
    ".appName('wiki-changes-event-consumer')\n",
    "# Add kafka package\n",
    ".config(\"spark.jars.packages\", \"org.apache.spark:spark-sql-kafka-0-10_2.12:3.2.1,net.snowflake:spark-snowflake_2.12:2.10.0-spark_3.2\")\n",
    ".getOrCreate())\n",
    "sc = spark.sparkContext\n",
    "\n",
    "\n",
    "\n",
    "sfOptions = {\n",
    " \"sfURL\" : \"zu02863.ap-south-1.aws.snowflakecomputing.com\",\n",
    " \"sfAccount\" : \"zu02863.ap-south-1.aws\",\n",
    " \"sfUser\" : \"coolkeonjhar\",\n",
    " \"sfPassword\" : \"Amrita@123\",\n",
    " \"sfDatabase\" : \"NIMBUS_MAPS\",\n",
    " \"sfSchema\" : \"RAW_LAYER\",\n",
    " \"sfWarehouse\" : \"compute_wh\",\n",
    " \"sfRole\" : \"ACCOUNTADMIN\"\n",
    "}\n",
    " \n",
    "    \n",
    "df = spark.read.format('snowflake') \\\n",
    "  .options(**sfOptions) \\\n",
    "  .option(\"query\",  \"select UID,ADDRESS,CITY,ZIPCODE,DECISION,CURRENT_TIMESTAMP() AS CREATE_TS from NIMBUS_MAPS.RAW_LAYER.DECISION_DATA_RAW where create_ts >(select nvl(max(CREATE_TS),to_timestamp('2001-01-01 00:00:00','YYYY-MM-DD HH24:MI:SS')) FROM nimbus_maps.presentation.decision_data_pres)\") \\\n",
    "  .load()\n",
    "\n",
    "\n"
   ]
  },
  {
   "cell_type": "code",
   "execution_count": 9,
   "id": "e95e1184-e901-4796-8463-99d271519950",
   "metadata": {},
   "outputs": [
    {
     "name": "stderr",
     "output_type": "stream",
     "text": [
      "                                                                                \r"
     ]
    },
    {
     "data": {
      "text/plain": [
       "4555"
      ]
     },
     "execution_count": 9,
     "metadata": {},
     "output_type": "execute_result"
    }
   ],
   "source": [
    "df.count()"
   ]
  },
  {
   "cell_type": "code",
   "execution_count": 42,
   "id": "22f01da6-4dc8-41bb-bfcc-3494a9d4df69",
   "metadata": {},
   "outputs": [],
   "source": [
    "import logging\n",
    "logger = logging.getLogger('pyspark_data_load_application_logger')\n"
   ]
  },
  {
   "cell_type": "code",
   "execution_count": 17,
   "id": "04c2e093-a320-48e5-823d-1a9574abe598",
   "metadata": {},
   "outputs": [],
   "source": [
    "from datetime import datetime\n",
    "import pytz\n",
    "import os"
   ]
  },
  {
   "cell_type": "code",
   "execution_count": 14,
   "id": "9475ccf8-65fe-4600-a78b-f62c3ae40ea1",
   "metadata": {},
   "outputs": [],
   "source": [
    "IST = pytz.timezone('Asia/Kolkata')\n",
    "datetime_ist = datetime.now(IST).strftime('%Y:%m:%d %H:%M:%S %Z %z')\n",
    "directory = \"/logs/\""
   ]
  },
  {
   "cell_type": "code",
   "execution_count": 40,
   "id": "02cf0962-4aea-4517-9212-b8a70df7daa0",
   "metadata": {},
   "outputs": [],
   "source": [
    "file_name = os.path.basename(sys.argv[0])\n",
    "log_file_name=file_name + datetime_ist + \".log\"\n",
    "log_file_name=\"logs/\" + log_file_name.replace(' ',\"_\")\n",
    "log_file = os.path.join(os.getcwd(), os.getcwd(), log_file_name)"
   ]
  },
  {
   "cell_type": "code",
   "execution_count": 43,
   "id": "67df9341-a74b-47c4-9b6b-dfcb9a603c86",
   "metadata": {},
   "outputs": [],
   "source": [
    "logging.basicConfig(\n",
    "     filename=log_file,\n",
    "     level=logging.INFO, \n",
    "     format= '[%(asctime)s] {%(pathname)s:%(lineno)d} %(levelname)s - %(message)s',\n",
    "     datefmt='%H:%M:%S',filemode='a'\n",
    " )"
   ]
  },
  {
   "cell_type": "code",
   "execution_count": 44,
   "id": "cc757828-fa94-4304-86e0-821f6a0453de",
   "metadata": {},
   "outputs": [
    {
     "name": "stderr",
     "output_type": "stream",
     "text": [
      "2022-02-27 14:26:02,181 1446684034.py <module> 1 test\n"
     ]
    }
   ],
   "source": [
    "logging.warning('test')"
   ]
  },
  {
   "cell_type": "code",
   "execution_count": 32,
   "id": "3cdca45b-3f0e-4a58-9d5e-28fe84324233",
   "metadata": {},
   "outputs": [
    {
     "name": "stdout",
     "output_type": "stream",
     "text": [
      "/home/file.txt\n"
     ]
    }
   ],
   "source": []
  },
  {
   "cell_type": "code",
   "execution_count": null,
   "id": "74e68466-8f44-453c-8ce6-760b67b96797",
   "metadata": {},
   "outputs": [],
   "source": []
  },
  {
   "cell_type": "code",
   "execution_count": null,
   "id": "f9b75e35-48d7-41af-a5f6-f5bf9d802db5",
   "metadata": {},
   "outputs": [],
   "source": []
  },
  {
   "cell_type": "code",
   "execution_count": null,
   "id": "1c15df0c-8b34-4046-9c2f-40669eea8efc",
   "metadata": {},
   "outputs": [],
   "source": []
  },
  {
   "cell_type": "code",
   "execution_count": null,
   "id": "13ba99a1-45f0-428c-9833-068fc8d92df3",
   "metadata": {},
   "outputs": [],
   "source": []
  }
 ],
 "metadata": {
  "kernelspec": {
   "display_name": "Python 3 (ipykernel)",
   "language": "python",
   "name": "python3"
  },
  "language_info": {
   "codemirror_mode": {
    "name": "ipython",
    "version": 3
   },
   "file_extension": ".py",
   "mimetype": "text/x-python",
   "name": "python",
   "nbconvert_exporter": "python",
   "pygments_lexer": "ipython3",
   "version": "3.8.10"
  }
 },
 "nbformat": 4,
 "nbformat_minor": 5
}
