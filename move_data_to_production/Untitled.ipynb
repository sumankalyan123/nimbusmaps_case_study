{
 "cells": [
  {
   "cell_type": "code",
   "execution_count": 20,
   "id": "946b0bda-d686-4113-8ead-f03cbd94eb2b",
   "metadata": {},
   "outputs": [],
   "source": [
    "import snowflake.connector\n",
    "\n",
    "\n",
    "conn=snowflake.connector.connect(\n",
    "      user='coolkeonjhar',\n",
    "                password='Amrita@123',\n",
    "                account='zu02863.ap-south-1.aws',\n",
    "                warehouse='COMPUTE_WH',\n",
    "                database='LANDING' ,\n",
    "                schema='INSTAGRAM'\n",
    "                )\n",
    "\n",
    "curs=conn.cursor()\n",
    "sql = 'SELECT (select count(*) from NIMBUS_MAPS.PRODUCTION.DECISION_DATA_PRES) AS PROD_COUNT,(SELECT count(*) from NIMBUS_MAPS.PRESENTATION.DECISION_DATA_PRES) AS PRESE_COUNT,(select count(*) from NIMBUS_MAPS.RAW_LAYER.DECISION_DATA_RAW) AS RAW_COUNT,(select count(*) from NIMBUS_MAPS.STAGING_DATA_LAKE.DECISION_DATA_STG ) AS STAGE_LAKE_COUNT;'\n",
    "GET_COUNTS=curs.execute(sql)\n",
    "    \n"
   ]
  },
  {
   "cell_type": "code",
   "execution_count": 22,
   "id": "8ee55731-5658-43d1-95ee-7392ba74b038",
   "metadata": {},
   "outputs": [],
   "source": [
    "for i in GET_COUNTS:\n",
    "    list.append(i[0])\n",
    "    list.append(i[1])\n",
    "    list.append(i[2])\n",
    "    list.append(i[3])\n",
    "    "
   ]
  },
  {
   "cell_type": "code",
   "execution_count": 21,
   "id": "8edd3f38-f377-443d-8c7e-859ecce82acb",
   "metadata": {},
   "outputs": [],
   "source": [
    "list =[]"
   ]
  },
  {
   "cell_type": "code",
   "execution_count": 11,
   "id": "813dd45f-d223-4656-aeca-2325c302082c",
   "metadata": {},
   "outputs": [
    {
     "data": {
      "text/plain": [
       "<snowflake.connector.cursor.SnowflakeCursor at 0x7fcdc1e7baf0>"
      ]
     },
     "execution_count": 11,
     "metadata": {},
     "output_type": "execute_result"
    }
   ],
   "source": [
    "GET_COUNTS"
   ]
  },
  {
   "cell_type": "code",
   "execution_count": 12,
   "id": "4f747e5a-7eeb-4837-8df8-0d76ecb7c062",
   "metadata": {},
   "outputs": [
    {
     "data": {
      "text/plain": [
       "<snowflake.connector.cursor.SnowflakeCursor at 0x7fcdc1e7baf0>"
      ]
     },
     "execution_count": 12,
     "metadata": {},
     "output_type": "execute_result"
    }
   ],
   "source": [
    "GET_COUNTS"
   ]
  },
  {
   "cell_type": "code",
   "execution_count": 26,
   "id": "a3826331-637c-4e24-ba35-a34f94ace200",
   "metadata": {},
   "outputs": [],
   "source": [
    "Prod_count = list[0] \n",
    "pres_count = list[1]\n",
    "raw_count  = list[2] \n",
    "stage_lake_count = list[3]  "
   ]
  },
  {
   "cell_type": "code",
   "execution_count": 27,
   "id": "abf128a8-42e9-472d-bced-b73021f9e200",
   "metadata": {},
   "outputs": [
    {
     "data": {
      "text/plain": [
       "0"
      ]
     },
     "execution_count": 27,
     "metadata": {},
     "output_type": "execute_result"
    }
   ],
   "source": [
    "Prod_count"
   ]
  },
  {
   "cell_type": "code",
   "execution_count": null,
   "id": "b3640a6f-b6c4-47b1-84ca-ef78b86e6337",
   "metadata": {},
   "outputs": [],
   "source": []
  },
  {
   "cell_type": "code",
   "execution_count": null,
   "id": "685c2eb4-f4e0-4e44-acf6-bf67beabdb48",
   "metadata": {},
   "outputs": [],
   "source": []
  },
  {
   "cell_type": "code",
   "execution_count": null,
   "id": "12e8fab1-ff33-4f50-bc4c-8dc0a9e81375",
   "metadata": {},
   "outputs": [],
   "source": []
  }
 ],
 "metadata": {
  "kernelspec": {
   "display_name": "Python 3 (ipykernel)",
   "language": "python",
   "name": "python3"
  },
  "language_info": {
   "codemirror_mode": {
    "name": "ipython",
    "version": 3
   },
   "file_extension": ".py",
   "mimetype": "text/x-python",
   "name": "python",
   "nbconvert_exporter": "python",
   "pygments_lexer": "ipython3",
   "version": "3.8.10"
  }
 },
 "nbformat": 4,
 "nbformat_minor": 5
}
