{
 "cells": [
  {
   "cell_type": "code",
   "execution_count": 69,
   "id": "946b0bda-d686-4113-8ead-f03cbd94eb2b",
   "metadata": {},
   "outputs": [
    {
     "name": "stdout",
     "output_type": "stream",
     "text": [
      "<snowflake.connector.cursor.SnowflakeCursor object at 0x7f143ac8c9d0>\n",
      "36\n",
      "<snowflake.connector.cursor.SnowflakeCursor object at 0x7f143ac8c9d0>\n",
      "36\n"
     ]
    }
   ],
   "source": [
    "import snowflake.connector\n",
    "\n",
    "\n",
    "conn=snowflake.connector.connect(\n",
    "      user='coolkeonjhar',\n",
    "                password='Amrita@123',\n",
    "                account='zu02863.ap-south-1.aws',\n",
    "                warehouse='COMPUTE_WH',\n",
    "                database='LANDING' ,\n",
    "                schema='INSTAGRAM'\n",
    "                )\n",
    "\n",
    "\n",
    "\n",
    "curs=conn.cursor()\n",
    "# sql = 'CREATE TEMPORARY TABLE NIMBUS_MAPS.PRODUCTION.DECISION_DATA_PRES_BKP AS SELECT * FROM NIMBUS_MAPS.PRODUCTION.DECISION_DATA_PRES;'\n",
    "# curs.execute(sql)\n",
    "\n",
    "# sql_truncate_target = 'TRUNCATE TABLE NIMBUS_MAPS.PRODUCTION.DECISION_DATA_PRES;'\n",
    "# curs.execute(sql_truncate_target)\n",
    "\n",
    "# sql_insert_data_to_target = 'insert into NIMBUS_MAPS.PRODUCTION.DECISION_DATA_PRES select * from NIMBUS_MAPS.PRESENTATION.DECISION_DATA_PRES;'\n",
    "# curs.execute(sql_insert_data_to_target)\n",
    "\n",
    "target_count=curs.execute('select count(*) from NIMBUS_MAPS.PRODUCTION.DECISION_DATA_PRES;')\n",
    "print(target_count)\n",
    "count_tar=[]\n",
    "for i in target_count:\n",
    "    count_tar.append(i[0])\n",
    "count_target_table = count_tar[0]\n",
    "print(count_target_table)\n",
    "source_count=curs.execute('select count(*) from NIMBUS_MAPS.PRESENTATION.DECISION_DATA_PRES;')\n",
    "print(source_count)\n",
    "count_sou=[]\n",
    "for j in source_count:\n",
    "    count_sou.append(j[0]) \n",
    "count_source_table = count_sou[0]\n",
    "print(count_source_table)\n"
   ]
  },
  {
   "cell_type": "code",
   "execution_count": 71,
   "id": "8ee55731-5658-43d1-95ee-7392ba74b038",
   "metadata": {},
   "outputs": [
    {
     "name": "stdout",
     "output_type": "stream",
     "text": [
      "data successfully copied to production\n"
     ]
    }
   ],
   "source": [
    "if count_target_table == count_source_table:\n",
    "    print('data successfully copied to production')\n",
    "    sql_drop_temp_table='DROP TABLE NIMBUS_MAPS.PRODUCTION.DECISION_DATA_PRES_BKP;'\n",
    " "
   ]
  },
  {
   "cell_type": "code",
   "execution_count": 65,
   "id": "8edd3f38-f377-443d-8c7e-859ecce82acb",
   "metadata": {},
   "outputs": [],
   "source": []
  },
  {
   "cell_type": "code",
   "execution_count": 66,
   "id": "813dd45f-d223-4656-aeca-2325c302082c",
   "metadata": {},
   "outputs": [],
   "source": []
  },
  {
   "cell_type": "code",
   "execution_count": 67,
   "id": "4f747e5a-7eeb-4837-8df8-0d76ecb7c062",
   "metadata": {},
   "outputs": [],
   "source": []
  },
  {
   "cell_type": "code",
   "execution_count": null,
   "id": "a3826331-637c-4e24-ba35-a34f94ace200",
   "metadata": {},
   "outputs": [],
   "source": []
  },
  {
   "cell_type": "code",
   "execution_count": null,
   "id": "abf128a8-42e9-472d-bced-b73021f9e200",
   "metadata": {},
   "outputs": [],
   "source": []
  },
  {
   "cell_type": "code",
   "execution_count": null,
   "id": "b3640a6f-b6c4-47b1-84ca-ef78b86e6337",
   "metadata": {},
   "outputs": [],
   "source": []
  },
  {
   "cell_type": "code",
   "execution_count": null,
   "id": "685c2eb4-f4e0-4e44-acf6-bf67beabdb48",
   "metadata": {},
   "outputs": [],
   "source": []
  },
  {
   "cell_type": "code",
   "execution_count": null,
   "id": "12e8fab1-ff33-4f50-bc4c-8dc0a9e81375",
   "metadata": {},
   "outputs": [],
   "source": []
  }
 ],
 "metadata": {
  "kernelspec": {
   "display_name": "Python 3 (ipykernel)",
   "language": "python",
   "name": "python3"
  },
  "language_info": {
   "codemirror_mode": {
    "name": "ipython",
    "version": 3
   },
   "file_extension": ".py",
   "mimetype": "text/x-python",
   "name": "python",
   "nbconvert_exporter": "python",
   "pygments_lexer": "ipython3",
   "version": "3.8.10"
  }
 },
 "nbformat": 4,
 "nbformat_minor": 5
}
